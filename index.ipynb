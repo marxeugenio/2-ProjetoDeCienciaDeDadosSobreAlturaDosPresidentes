{
 "cells": [
  {
   "cell_type": "code",
   "execution_count": 1,
   "metadata": {},
   "outputs": [],
   "source": [
    "import pandas as pd\n",
    "\n",
    "data = pd.read_csv(r\"C:\\Users\\marxe\\OneDrive\\Área de Trabalho\\170 Projetos\\2. Projeto de ciência de dados sobre Altura dos Presidentes\\president_heights.csv\")"
   ]
  },
  {
   "cell_type": "code",
   "execution_count": 2,
   "metadata": {},
   "outputs": [
    {
     "name": "stdout",
     "output_type": "stream",
     "text": [
      "    order                    name  height(cm)\n",
      "0       1       George Washington         189\n",
      "1       2              John Adams         170\n",
      "2       3        Thomas Jefferson         189\n",
      "3       4           James Madison         163\n",
      "4       5            James Monroe         183\n",
      "5       6       John Quincy Adams         171\n",
      "6       7          Andrew Jackson         185\n",
      "7       8        Martin Van Buren         168\n",
      "8       9  William Henry Harrison         173\n",
      "9      10              John Tyler         183\n",
      "10     11           James K. Polk         173\n",
      "11     12          Zachary Taylor         173\n",
      "12     13        Millard Fillmore         175\n",
      "13     14         Franklin Pierce         178\n",
      "14     15          James Buchanan         183\n",
      "15     16         Abraham Lincoln         193\n",
      "16     17          Andrew Johnson         178\n",
      "17     18        Ulysses S. Grant         173\n",
      "18     19     Rutherford B. Hayes         174\n",
      "19     20       James A. Garfield         183\n",
      "20     21       Chester A. Arthur         183\n",
      "21     23       Benjamin Harrison         168\n",
      "22     25        William McKinley         170\n",
      "23     26      Theodore Roosevelt         178\n",
      "24     27     William Howard Taft         182\n",
      "25     28          Woodrow Wilson         180\n",
      "26     29       Warren G. Harding         183\n",
      "27     30         Calvin Coolidge         178\n",
      "28     31          Herbert Hoover         182\n",
      "29     32   Franklin D. Roosevelt         188\n",
      "30     33         Harry S. Truman         175\n",
      "31     34    Dwight D. Eisenhower         179\n",
      "32     35         John F. Kennedy         183\n",
      "33     36       Lyndon B. Johnson         193\n",
      "34     37           Richard Nixon         182\n",
      "35     38             Gerald Ford         183\n",
      "36     39            Jimmy Carter         177\n",
      "37     40           Ronald Reagan         185\n",
      "38     41       George H. W. Bush         188\n",
      "39     42            Bill Clinton         188\n",
      "40     43          George W. Bush         182\n",
      "41     44            Barack Obama         185\n"
     ]
    }
   ],
   "source": [
    "print(data)"
   ]
  },
  {
   "cell_type": "code",
   "execution_count": 3,
   "metadata": {},
   "outputs": [
    {
     "name": "stdout",
     "output_type": "stream",
     "text": [
      "   order               name  height(cm)\n",
      "0      1  George Washington         189\n",
      "1      2         John Adams         170\n",
      "2      3   Thomas Jefferson         189\n",
      "3      4      James Madison         163\n",
      "4      5       James Monroe         183\n"
     ]
    }
   ],
   "source": [
    "print(data.head())"
   ]
  },
  {
   "cell_type": "code",
   "execution_count": 4,
   "metadata": {},
   "outputs": [
    {
     "name": "stdout",
     "output_type": "stream",
     "text": [
      "[189 170 189 163 183 171 185 168 173 183 173 173 175 178 183 193 178 173\n",
      " 174 183 183 168 170 178 182 180 183 178 182 188 175 179 183 193 182 183\n",
      " 177 185 188 188 182 185]\n"
     ]
    }
   ],
   "source": [
    "import numpy as np\n",
    "\n",
    "height = np.array(data[\"height(cm)\"])\n",
    "print(height)"
   ]
  },
  {
   "cell_type": "code",
   "execution_count": 5,
   "metadata": {},
   "outputs": [
    {
     "name": "stdout",
     "output_type": "stream",
     "text": [
      "Mean of heights = 179.73809523809524\n",
      "Standard Deviation of Height = 6.931843442745892\n",
      "Minimum Height = 163\n",
      "Maximum Height =  193\n"
     ]
    }
   ],
   "source": [
    "print(\"Mean of heights =\", height.mean())\n",
    "print(\"Standard Deviation of Height =\", height.std())\n",
    "print(\"Minimum Height =\", height.min())\n",
    "print(\"Maximum Height = \", height.max())"
   ]
  },
  {
   "cell_type": "code",
   "execution_count": 6,
   "metadata": {},
   "outputs": [
    {
     "data": {
      "text/plain": [
       "'mean() (Média):\\n\\nA função mean() é utilizada para calcular a média (média aritmética) de uma coleção de valores.\\nNo contexto do seu código, height.mean() está calculando a média das alturas presentes no array ou objeto height.\\nstd() (Desvio Padrão):\\n\\nA função std() é usada para calcular o desvio padrão de uma coleção de valores.\\nO desvio padrão é uma medida de dispersão que indica o quanto os valores de um conjunto estão dispersos em torno da média. Um desvio padrão maior indica uma maior dispersão.\\nNo seu código, height.std() está calculando o desvio padrão das alturas no array ou objeto height.'"
      ]
     },
     "execution_count": 6,
     "metadata": {},
     "output_type": "execute_result"
    }
   ],
   "source": [
    "\"\"\"mean() (Média):\n",
    "\n",
    "A função mean() é utilizada para calcular a média (média aritmética) de uma coleção de valores.\n",
    "No contexto do seu código, height.mean() está calculando a média das alturas presentes no array ou objeto height.\n",
    "std() (Desvio Padrão):\n",
    "\n",
    "A função std() é usada para calcular o desvio padrão de uma coleção de valores.\n",
    "O desvio padrão é uma medida de dispersão que indica o quanto os valores de um conjunto estão dispersos em torno da média. Um desvio padrão maior indica uma maior dispersão.\n",
    "No seu código, height.std() está calculando o desvio padrão das alturas no array ou objeto height.\"\"\""
   ]
  },
  {
   "cell_type": "code",
   "execution_count": 7,
   "metadata": {},
   "outputs": [
    {
     "name": "stdout",
     "output_type": "stream",
     "text": [
      "25th percentile = 174.25\n",
      "Median =  182.0\n",
      "75th percentile =  183.0\n"
     ]
    }
   ],
   "source": [
    "print(\"25th percentile =\", np.percentile(height, 25))\n",
    "print(\"Median = \", np.median(height))\n",
    "print(\"75th percentile = \", np.percentile(height, 75))"
   ]
  },
  {
   "cell_type": "code",
   "execution_count": null,
   "metadata": {},
   "outputs": [],
   "source": [
    "\"\"\" Essa parte do código está calculando alguns percentis e a mediana das alturas presentes no array height...\n",
    "\n",
    "np.percentile(height, 25) -- (25 percentil), o método percentile do Numpy é utilizado para calcular o percentil de um conjunto de dados.\n",
    "\n",
    "No código, np.percentile(height, 25) está calculando o valor abaixo do qual 25% dos dados estão. Em outras palavras, está calculando o 25% percentil das alturass no array height\n",
    "\n",
    "np.median(height) (Mediana), a mediana é o valor que divide os dados ordenados ao meio. Em outras palavras, é o valor que está exatamente no meio de um conjunto de dados ordenado.\n",
    "\n",
    "O método median do Numpy, no código, está calculando a mediana das alturas presentes no array Height\n",
    "\n",
    "np.percentile(height, 75) -- (75 percentil), similar ao primeiro item, np.pecentile(height, 75) está calculando o valor abaixo do qual 75% dos dados estão. Basicamente está calculando 75 percentil das alturas do array Height\n",
    "\n",
    "O percentil é uma medida estatística que indica o valor abaixo do qual uma determinada porcentagem de observações em um conjunto de dados se encontra. Em outras palavras, é um ponto de dados que divide uma distribuição ordenada em 100 partes iguais.\n",
    "\n",
    "Os percentis são frequentemente usados para entender a distribuição dos dados e identificar a posição relativa de um valor em relação aos outros. Alguns percentis comuns incluem o quartil (25º, 50º, e 75º percentis) e o percentil 90, mas qualquer porcentagem pode ser usada para calcular um percentil específico.\n",
    "\n",
    "Para entender melhor:\n",
    "\n",
    "Quartis:\n",
    "\n",
    "25º percentil: O valor abaixo do qual 25% dos dados estão.\n",
    "50º percentil (mediana): O valor abaixo do qual 50% dos dados estão.\n",
    "75º percentil: O valor abaixo do qual 75% dos dados estão.\n",
    "Percentil 90:\n",
    "\n",
    "O valor abaixo do qual 90% dos dados estão.\n",
    "Por exemplo, se você tem um conjunto de dados ordenado e quer calcular o percentil 25, isso significa que 25% dos dados estão abaixo desse valor. Se você tem um conjunto de dados não ordenado, pode usar a função percentile para calcular o valor correspondente.\n",
    "\n",
    "\"\"\""
   ]
  },
  {
   "cell_type": "code",
   "execution_count": 9,
   "metadata": {},
   "outputs": [
    {
     "data": {
      "image/png": "[encoded data removed]",
      "text/plain": [
       "<Figure size 640x480 with 1 Axes>"
      ]
     },
     "metadata": {},
     "output_type": "display_data"
    }
   ],
   "source": [
    "import matplotlib.pyplot as plt\n",
    "import seaborn as sns\n",
    "sns.set()\n",
    "\n",
    "plt.hist(height)\n",
    "plt.title(\"Altura e Distribuição dos Presidentes do USA\")\n",
    "plt.xlabel(\"Altura(cm)\")\n",
    "plt.ylabel(\"Number\")\n",
    "plt.show()"
   ]
  },
  {
   "cell_type": "code",
   "execution_count": null,
   "metadata": {},
   "outputs": [],
   "source": [
    "\"\"\" Este código utiliza as bibliotecas Matplotlib e Seaborn para criar um histograma das alturas dos presidentes.\n",
    "\n",
    "import matplotlib.pyplot as plt, importa a biblioteca matplotlib.pyplot e atribui ela ao nome plt para facilitar o uso.\n",
    "\n",
    "import seaborn as sns, importa a biblioteca Seaborn que é uma biblioteca de visualização de dados baseada no Matplotlib. Seaborn adicona estilos e funcionalidades adicionais para melhorar a visualização\n",
    "\n",
    "sns.set(), é utilizado para defirnir o estilo padrão do Seaborn, Isso pode alterar o esquema de cores de fundo etc..\"\"\""
   ]
  }
 ],
 "metadata": {
  "kernelspec": {
   "display_name": "Python 3",
   "language": "python",
   "name": "python3"
  },
  "language_info": {
   "codemirror_mode": {
    "name": "ipython",
    "version": 3
   },
   "file_extension": ".py",
   "mimetype": "text/x-python",
   "name": "python",
   "nbconvert_exporter": "python",
   "pygments_lexer": "ipython3",
   "version": "3.10.2"
  }
 },
 "nbformat": 4,
 "nbformat_minor": 2
}
